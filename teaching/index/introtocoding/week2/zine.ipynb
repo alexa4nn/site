{
 "cells": [
  {
   "cell_type": "markdown",
   "metadata": {},
   "source": [
    "# Webzine Title Random Generator\n",
    "A website is ...."
   ]
  },
  {
   "cell_type": "code",
   "execution_count": 41,
   "metadata": {},
   "outputs": [],
   "source": [
    "text = \"fluttering entanglement of linking pathways, A place to, play and be silly, like improv, Warm, inviting, somewhere to share coffee together in the morning, disco party vibes in the evening, The space can morph through, time in the day, A broad sky with a cloud for each user. Ads can be birds flying by, ike a labyrinth of many doors leading to, fantastical spaces, Like an audiophiles record collection, A rabbit hole full of info but each, with subculture/genre of its own, All the beautiful, things together, At no cost, terrarium full of rocks and moss, like a garden, different plants being watered and, taken care of based on needs, walking through a, forest and finding a secret lake, where chaos, beauty, story and organization meet, A forest of beautiful doors that, open into beautiful spaces for, every kind of dweller on every kind of path, A fairy garden, A hot summer day, with a light breeze, a really overgrown, abandoned, front garden of, a small home that, had a bit of care right at the beginning but is now full of, entropy and just like nature growing together. Mushrooms! Mold! Vines! Moss! Flowers!, A portal, A place you find by tripping over a rock, more human(less corporate), A virtual ~room(think squishy walls, goopy floors, no ceiling) where you can discuss educate relax listen dance etc, lush, abundant & welcoming, Smells like home, Incomplete, forever WIP \""
   ]
  },
  {
   "cell_type": "code",
   "execution_count": 42,
   "metadata": {},
   "outputs": [
    {
     "name": "stdout",
     "output_type": "stream",
     "text": [
      "fluttering entanglement of linking pathways, A place to, play and be silly, like improv, Warm, inviting, somewhere to share coffee together in the morning, disco party vibes in the evening, The space can morph through, time in the day, A broad sky with a cloud for each user. Ads can be birds flying by, ike a labyrinth of many doors leading to, fantastical spaces, Like an audiophiles record collection, A rabbit hole full of info but each, with subculture/genre of its own, All the beautiful, things together, At no cost, terrarium full of rocks and moss, like a garden, different plants being watered and, taken care of based on needs, walking through a, forest and finding a secret lake, where chaos, beauty, story and organization meet, A forest of beautiful doors that, open into beautiful spaces for, every kind of dweller on every kind of path, A fairy garden, A hot summer day, with a light breeze, a really overgrown, abandoned, front garden of, a small home that, had a bit of care right at the beginning but is now full of, entropy and just like nature growing together. Mushrooms! Mold! Vines! Moss! Flowers!, A portal, A place you find by tripping over a rock, more human(less corporate), A virtual ~room(think squishy walls, goopy floors, no ceiling) where you can discuss educate relax listen dance etc, lush, abundant & welcoming, Smells like home, Incomplete, forever WIP \n"
     ]
    }
   ],
   "source": [
    "print(text)"
   ]
  },
  {
   "cell_type": "code",
   "execution_count": 46,
   "metadata": {},
   "outputs": [
    {
     "name": "stdout",
     "output_type": "stream",
     "text": [
      "\n",
      "\n",
      "~~~~~\n",
      " A place you find by tripping over a rock\n",
      " a small home that\n",
      " A forest of beautiful doors that\n",
      "\n",
      "\n",
      "~~~~~\n",
      " A portal\n",
      " The space can morph through\n",
      " story and organization meet\n",
      "\n",
      "\n",
      "~~~~~\n",
      " where chaos\n",
      " like a garden\n",
      " disco party vibes in the evening\n"
     ]
    }
   ],
   "source": [
    "# sampling from a list\n",
    "import random\n",
    "all_words = text.split(',')\n",
    "\n",
    "print(\"\")\n",
    "print(\"\")\n",
    "print(\"~~~~~\")\n",
    "a_few_words = random.sample(all_words, 3)\n",
    "for word in a_few_words:\n",
    "    print(word)\n",
    "\n",
    "print(\"\")\n",
    "print(\"\")\n",
    "print(\"~~~~~\")\n",
    "a_few_words = random.sample(all_words, 3)\n",
    "for word in a_few_words:\n",
    "    print(word)\n",
    "\n",
    "print(\"\")\n",
    "print(\"\")\n",
    "print(\"~~~~~\")\n",
    "a_few_words = random.sample(all_words, 3)\n",
    "for word in a_few_words:\n",
    "    print(word)\n",
    "    \n"
   ]
  },
  {
   "cell_type": "markdown",
   "metadata": {},
   "source": [
    "time in the day\n",
    "more human(less corporate)\n",
    "A fairy garden\n",
    "\n",
    "Like an audiophiles record collection\n",
    "Warm\n",
    "lush\n",
    "\n",
    "A fairy garden\n",
    "A hot summer day\n",
    "A place to\n",
    "\n",
    "with subculture/genre of its own\n",
    "fluttering entanglement of linking pathways\n",
    "Like an audiophiles record collection\n",
    "\n",
    " entropy and just like nature growing together. Mushrooms! Mold! Vines! Moss! Flowers!\n",
    " things together\n",
    " more human(less corporate)\n",
    "\n",
    "entropy and just like nature growing together. Mushrooms! Mold! Vines! Moss! Flowers!\n",
    " A fairy garden\n",
    " with subculture/genre of its own\n",
    "\n",
    "\n",
    "  A place you find by tripping over a rock\n",
    " lush\n",
    " beauty\n",
    "\n",
    "\n",
    "every kind of dweller on every kind of path\n",
    " A place to\n",
    " with a light breeze\n",
    "\n",
    " Warm\n",
    " a small home that\n",
    " Smells like home\n",
    "\n",
    "\n",
    "A place you find by tripping over a rock\n",
    " a small home that\n",
    " A forest of beautiful doors that\n",
    "\n",
    "  A portal\n",
    " The space can morph through\n",
    " story and organization meet\n",
    "\n",
    "\n",
    " where chaos\n",
    " like a garden\n",
    " disco party vibes in the evening\n"
   ]
  },
  {
   "cell_type": "markdown",
   "metadata": {},
   "source": [
    "# Markov Chain Title Generator"
   ]
  },
  {
   "cell_type": "code",
   "execution_count": 7,
   "metadata": {},
   "outputs": [
    {
     "name": "stdout",
     "output_type": "stream",
     "text": [
      "\u001b[33mDEPRECATION: Configuring installation scheme with distutils config files is deprecated and will no longer work in the near future. If you are using a Homebrew or Linuxbrew Python, please see discussion at https://github.com/Homebrew/homebrew-core/issues/76621\u001b[0m\u001b[33m\n",
      "\u001b[0mRequirement already satisfied: markovify in /usr/local/lib/python3.9/site-packages (0.9.4)\n",
      "Requirement already satisfied: unidecode in /usr/local/lib/python3.9/site-packages (from markovify) (1.3.4)\n",
      "\u001b[33mDEPRECATION: Configuring installation scheme with distutils config files is deprecated and will no longer work in the near future. If you are using a Homebrew or Linuxbrew Python, please see discussion at https://github.com/Homebrew/homebrew-core/issues/76621\u001b[0m\u001b[33m\n",
      "\u001b[0m"
     ]
    }
   ],
   "source": [
    "!pip install markovify"
   ]
  },
  {
   "cell_type": "code",
   "execution_count": 26,
   "metadata": {},
   "outputs": [
    {
     "name": "stdout",
     "output_type": "stream",
     "text": [
      "None\n",
      "None\n",
      "The space can morph through time in the morning, disco party vibes in the morning, disco party vibes in the morning, disco party vibes in the evening.\n"
     ]
    }
   ],
   "source": [
    "import markovify\n",
    "\n",
    "# Get raw text as string.\n",
    "with open(\"neuroticspiralaboutwebsites.txt\") as f:\n",
    "    text = f.read()\n",
    "\n",
    "#Build the model.\n",
    "text_model = markovify.Text(text)\n",
    "\n",
    "# Print five randomly-generated sentences\n",
    "for i in range(3):\n",
    "    print(text_model.make_sentence())\n",
    "\n",
    "# Print five randomly-generated sentences\n",
    "# for i in range(5):\n",
    "#     sentence = text_model.make_sentence_with_start(beginning=\"vr\", strict=False)\n",
    "#     print(sentence)\n"
   ]
  },
  {
   "cell_type": "code",
   "execution_count": null,
   "metadata": {},
   "outputs": [],
   "source": []
  },
  {
   "cell_type": "code",
   "execution_count": null,
   "metadata": {},
   "outputs": [],
   "source": []
  }
 ],
 "metadata": {
  "interpreter": {
   "hash": "aee8b7b246df8f9039afb4144a1f6fd8d2ca17a180786b69acc140d282b71a49"
  },
  "kernelspec": {
   "display_name": "Python 3.9.12 64-bit",
   "language": "python",
   "name": "python3"
  },
  "language_info": {
   "codemirror_mode": {
    "name": "ipython",
    "version": 3
   },
   "file_extension": ".py",
   "mimetype": "text/x-python",
   "name": "python",
   "nbconvert_exporter": "python",
   "pygments_lexer": "ipython3",
   "version": "3.9.12"
  },
  "orig_nbformat": 4
 },
 "nbformat": 4,
 "nbformat_minor": 2
}
