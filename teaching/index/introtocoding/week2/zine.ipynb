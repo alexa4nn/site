{
 "cells": [
  {
   "cell_type": "markdown",
   "metadata": {},
   "source": [
    "# Webzine Title Random Generator\n",
    "A website is ...."
   ]
  },
  {
   "cell_type": "code",
   "execution_count": 13,
   "metadata": {},
   "outputs": [],
   "source": [
    "text = \"fluttering entanglement of linking pathways, \""
   ]
  },
  {
   "cell_type": "code",
   "execution_count": 14,
   "metadata": {},
   "outputs": [
    {
     "name": "stdout",
     "output_type": "stream",
     "text": [
      "fluttering entanglement of linking pathways, \n"
     ]
    }
   ],
   "source": [
    "print(text)"
   ]
  },
  {
   "cell_type": "code",
   "execution_count": 15,
   "metadata": {},
   "outputs": [
    {
     "name": "stdout",
     "output_type": "stream",
     "text": [
      "pathways,\n",
      "linking\n",
      "\n",
      "of\n",
      "fluttering\n",
      "entanglement\n"
     ]
    }
   ],
   "source": [
    "# shuffle words using random.shuffle\n",
    "import random\n",
    "\n",
    "#first we turn text into a list of words\n",
    "words = text.split(' ')\n",
    "\n",
    "#then we shuffle the list\n",
    "random.shuffle(words)\n",
    "\n",
    "#then we print each word in the list\n",
    "for word in words:\n",
    "    print(word)\n",
    "\n"
   ]
  },
  {
   "cell_type": "code",
   "execution_count": 18,
   "metadata": {},
   "outputs": [
    {
     "name": "stdout",
     "output_type": "stream",
     "text": [
      "\n",
      "\n",
      "~~~~~\n",
      "\n",
      "linking\n",
      "fluttering\n",
      "\n",
      "\n",
      "~~~~~\n",
      "linking\n",
      "entanglement\n",
      "fluttering\n",
      "\n",
      "\n",
      "~~~~~\n",
      "\n",
      "linking\n",
      "pathways,\n"
     ]
    }
   ],
   "source": [
    "# sampling from a list\n",
    "import random\n",
    "all_words = text.split(' ')\n",
    "\n",
    "print(\"\")\n",
    "print(\"\")\n",
    "print(\"~~~~~\")\n",
    "a_few_words = random.sample(all_words, 3)\n",
    "for word in a_few_words:\n",
    "    print(word)\n",
    "\n",
    "print(\"\")\n",
    "print(\"\")\n",
    "print(\"~~~~~\")\n",
    "a_few_words = random.sample(all_words, 3)\n",
    "for word in a_few_words:\n",
    "    print(word)\n",
    "\n",
    "print(\"\")\n",
    "print(\"\")\n",
    "print(\"~~~~~\")\n",
    "a_few_words = random.sample(all_words, 3)\n",
    "for word in a_few_words:\n",
    "    print(word)"
   ]
  },
  {
   "cell_type": "markdown",
   "metadata": {},
   "source": [
    "# Markov Chain Title Generator"
   ]
  },
  {
   "cell_type": "code",
   "execution_count": 7,
   "metadata": {},
   "outputs": [
    {
     "name": "stdout",
     "output_type": "stream",
     "text": [
      "\u001b[33mDEPRECATION: Configuring installation scheme with distutils config files is deprecated and will no longer work in the near future. If you are using a Homebrew or Linuxbrew Python, please see discussion at https://github.com/Homebrew/homebrew-core/issues/76621\u001b[0m\u001b[33m\n",
      "\u001b[0mRequirement already satisfied: markovify in /usr/local/lib/python3.9/site-packages (0.9.4)\n",
      "Requirement already satisfied: unidecode in /usr/local/lib/python3.9/site-packages (from markovify) (1.3.4)\n",
      "\u001b[33mDEPRECATION: Configuring installation scheme with distutils config files is deprecated and will no longer work in the near future. If you are using a Homebrew or Linuxbrew Python, please see discussion at https://github.com/Homebrew/homebrew-core/issues/76621\u001b[0m\u001b[33m\n",
      "\u001b[0m"
     ]
    }
   ],
   "source": [
    "!pip install markovify"
   ]
  },
  {
   "cell_type": "code",
   "execution_count": 11,
   "metadata": {},
   "outputs": [
    {
     "name": "stdout",
     "output_type": "stream",
     "text": [
      "What result do you hope a website provide for a human?\n",
      "The internet is to blank, as a website provide for a human?\n",
      "The internet is to blank.\n"
     ]
    }
   ],
   "source": [
    "import markovify\n",
    "\n",
    "# Get raw text as string.\n",
    "with open(\"neuroticspiralaboutwebsites.txt\") as f:\n",
    "    text = f.read()\n",
    "\n",
    "#Build the model.\n",
    "text_model = markovify.Text(text)\n",
    "\n",
    "# Print five randomly-generated sentences\n",
    "for i in range(3):\n",
    "    print(text_model.make_sentence())\n",
    "\n",
    "# Print five randomly-generated sentences\n",
    "# for i in range(5):\n",
    "#     sentence = text_model.make_sentence_with_start(beginning=\"vr\", strict=False)\n",
    "#     print(sentence)"
   ]
  },
  {
   "cell_type": "code",
   "execution_count": null,
   "metadata": {},
   "outputs": [],
   "source": []
  }
 ],
 "metadata": {
  "interpreter": {
   "hash": "aee8b7b246df8f9039afb4144a1f6fd8d2ca17a180786b69acc140d282b71a49"
  },
  "kernelspec": {
   "display_name": "Python 3.9.12 64-bit",
   "language": "python",
   "name": "python3"
  },
  "language_info": {
   "codemirror_mode": {
    "name": "ipython",
    "version": 3
   },
   "file_extension": ".py",
   "mimetype": "text/x-python",
   "name": "python",
   "nbconvert_exporter": "python",
   "pygments_lexer": "ipython3",
   "version": "3.9.12"
  },
  "orig_nbformat": 4
 },
 "nbformat": 4,
 "nbformat_minor": 2
}
