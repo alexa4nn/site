{
 "cells": [
  {
   "cell_type": "code",
   "execution_count": 1,
   "metadata": {},
   "outputs": [
    {
     "name": "stdout",
     "output_type": "stream",
     "text": [
      "\n",
      "Time is forever, but it is composting and processing for growth\n",
      "existence is inevitable, but there is a lush foliage canopy\n",
      "but we are learning, and a butterfly is landing on a petal to rest\n",
      "\n",
      "\n",
      "Time is forever, but soil is so deep and damp\n",
      "existence is arbitrary, but a watering can leaks onto my limbs\n",
      "but we can care less, and there is a lush foliage canopy\n",
      "\n"
     ]
    }
   ],
   "source": [
    "import random\n",
    "\n",
    "time = [\"too late\", \n",
    "        \"in the moment\",\n",
    "        \"forever\", \n",
    "        \"limited\", \n",
    "        \"nonlinear\", \n",
    "        \"chronological\", \n",
    "        \"too fast\", \n",
    "        \"too short\"\n",
    "]\n",
    "\n",
    "existence = [\"inevitable\",\n",
    "              \"confusing\",\n",
    "              \"arbitrary\",\n",
    "              \"simultaneous\",\n",
    "              \"serendipitous\",\n",
    "              ]\n",
    "\n",
    "but_we = [\"are here now\",\n",
    "           \"are alongside each other\",\n",
    "           \"are connecting\",\n",
    "           \"are learning\",\n",
    "           \"can care less\",\n",
    "           \"enjoying what is in front of us\"]\n",
    "\n",
    "garden = [\"soil is so deep and damp\",\n",
    "          \"there is a lush foliage canopy\",\n",
    "          \"insects and polinators are climbing each stem\",\n",
    "          \"a watering can leaks onto my limbs\",\n",
    "          \"it is composting and processing for growth\",\n",
    "          \"i am foraging a fruit to be nourished\",\n",
    "          \"a butterfly is landing on a petal to rest\",\n",
    "          \"small seeds sprout hope\"\n",
    "        ]\n",
    "    \n",
    "\n",
    "stanza_count = 2\n",
    "\n",
    "for counter in range(stanza_count):\n",
    "    print()\n",
    "    print(\"Time is \" + random.choice(time) + \", but \" + random.choice(garden))\n",
    "    print(\"existence is \" + random.choice(existence) + \", but \" + random.choice(garden))\n",
    "    print(\"but we \" + random.choice(but_we) + \", and \" + random.choice(garden))\n",
    "    print()"
   ]
  },
  {
   "cell_type": "code",
   "execution_count": null,
   "metadata": {},
   "outputs": [],
   "source": []
  }
 ],
 "metadata": {
  "interpreter": {
   "hash": "aee8b7b246df8f9039afb4144a1f6fd8d2ca17a180786b69acc140d282b71a49"
  },
  "kernelspec": {
   "display_name": "Python 3.9.12 64-bit",
   "language": "python",
   "name": "python3"
  },
  "language_info": {
   "codemirror_mode": {
    "name": "ipython",
    "version": 3
   },
   "file_extension": ".py",
   "mimetype": "text/x-python",
   "name": "python",
   "nbconvert_exporter": "python",
   "pygments_lexer": "ipython3",
   "version": "3.9.12"
  },
  "orig_nbformat": 4
 },
 "nbformat": 4,
 "nbformat_minor": 2
}
